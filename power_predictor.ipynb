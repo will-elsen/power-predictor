{
 "cells": [
  {
   "cell_type": "markdown",
   "id": "06284050",
   "metadata": {},
   "source": [
    "### Imports\n",
    "* requests: easy HTTP GETs"
   ]
  },
  {
   "cell_type": "code",
   "execution_count": 6,
   "id": "a7b62637",
   "metadata": {},
   "outputs": [],
   "source": [
    "import requests\n",
    "import sys"
   ]
  },
  {
   "cell_type": "code",
   "execution_count": 13,
   "id": "deb4f6a8",
   "metadata": {},
   "outputs": [
    {
     "name": "stdout",
     "output_type": "stream",
     "text": [
      "Response: b'{\"object\":\"card\",\"id\":\"bd8fa327-dd41-4737-8f19-2cf5eb1f7cdd\",\"oracle_id\":\"5089ec1a-f881-4d55-af14-5d996171203b\",\"multiverse_ids\":[382866],\"mtgo_id\":53155,\"mtgo_foil_id\":53156,\"name\":\"Black Lotus\",\"lang\":\"en\",\"released_at\":\"2014-06-16\",\"uri\":\"https://api.scryfall.com/cards/bd8fa327-dd41-4737-8f19-2cf5eb1f7cdd\",\"scryfall_uri\":\"https://scryfall.com/card/vma/4/black-lotus?utm_source=api\",\"layout\":\"normal\",\"highres_image\":true,\"image_status\":\"highres_scan\",\"image_uris\":{\"small\":\"https://cards.scryfall.io/small/front/b/d/bd8fa327-dd41-4737-8f19-2cf5eb1f7cdd.jpg?1614638838\",\"normal\":\"https://cards.scryfall.io/normal/front/b/d/bd8fa327-dd41-4737-8f19-2cf5eb1f7cdd.jpg?1614638838\",\"large\":\"https://cards.scryfall.io/large/front/b/d/bd8fa327-dd41-4737-8f19-2cf5eb1f7cdd.jpg?1614638838\",\"png\":\"https://cards.scryfall.io/png/front/b/d/bd8fa327-dd41-4737-8f19-2cf5eb1f7cdd.png?1614638838\",\"art_crop\":\"https://cards.scryfall.io/art_crop/front/b/d/bd8fa327-dd41-4737-8f19-2cf5eb1f7cdd.jpg?1614638838\",\"border_crop\":\"https://cards.scryfall.io/border_crop/front/b/d/bd8fa327-dd41-4737-8f19-2cf5eb1f7cdd.jpg?1614638838\"},\"mana_cost\":\"{0}\",\"cmc\":0.0,\"type_line\":\"Artifact\",\"oracle_text\":\"{T}, Sacrifice this artifact: Add three mana of any one color.\",\"colors\":[],\"color_identity\":[],\"keywords\":[],\"produced_mana\":[\"B\",\"G\",\"R\",\"U\",\"W\"],\"legalities\":{\"standard\":\"not_legal\",\"future\":\"not_legal\",\"historic\":\"not_legal\",\"timeless\":\"not_legal\",\"gladiator\":\"not_legal\",\"pioneer\":\"not_legal\",\"explorer\":\"not_legal\",\"modern\":\"not_legal\",\"legacy\":\"banned\",\"pauper\":\"not_legal\",\"vintage\":\"restricted\",\"penny\":\"not_legal\",\"commander\":\"banned\",\"oathbreaker\":\"banned\",\"standardbrawl\":\"not_legal\",\"brawl\":\"not_legal\",\"alchemy\":\"not_legal\",\"paupercommander\":\"not_legal\",\"duel\":\"banned\",\"oldschool\":\"not_legal\",\"premodern\":\"not_legal\",\"predh\":\"banned\"},\"games\":[\"mtgo\"],\"reserved\":true,\"game_changer\":false,\"foil\":true,\"nonfoil\":true,\"finishes\":[\"nonfoil\",\"foil\"],\"oversized\":false,\"promo\":false,\"reprint\":true,\"variation\":false,\"set_id\":\"a944551a-73fa-41cd-9159-e8d0e4674403\",\"set\":\"vma\",\"set_name\":\"Vintage Masters\",\"set_type\":\"masters\",\"set_uri\":\"https://api.scryfall.com/sets/a944551a-73fa-41cd-9159-e8d0e4674403\",\"set_search_uri\":\"https://api.scryfall.com/cards/search?order=set&q=e%3Avma&unique=prints\",\"scryfall_set_uri\":\"https://scryfall.com/sets/vma?utm_source=api\",\"rulings_uri\":\"https://api.scryfall.com/cards/bd8fa327-dd41-4737-8f19-2cf5eb1f7cdd/rulings\",\"prints_search_uri\":\"https://api.scryfall.com/cards/search?order=released&q=oracleid%3A5089ec1a-f881-4d55-af14-5d996171203b&unique=prints\",\"collector_number\":\"4\",\"digital\":true,\"rarity\":\"bonus\",\"card_back_id\":\"0aeebaf5-8c7d-4636-9e82-8c27447861f7\",\"artist\":\"Chris Rahn\",\"artist_ids\":[\"7742047e-0f80-4c0f-a530-d07460165e86\"],\"illustration_id\":\"da62ded1-bedd-44c6-8950-ca56e691a899\",\"border_color\":\"black\",\"frame\":\"2015\",\"security_stamp\":\"oval\",\"full_art\":false,\"textless\":false,\"booster\":true,\"story_spotlight\":false,\"prices\":{\"usd\":null,\"usd_foil\":null,\"usd_etched\":null,\"eur\":null,\"eur_foil\":null,\"tix\":\"37.28\"},\"related_uris\":{\"gatherer\":\"https://gatherer.wizards.com/Pages/Card/Details.aspx?multiverseid=382866&printed=false\",\"tcgplayer_infinite_articles\":\"https://partner.tcgplayer.com/c/4931599/1830156/21018?subId1=api&trafcat=tcgplayer.com%2Fcontent&u=https%3A%2F%2Fwww.tcgplayer.com%2Fcontent%2Fsearch%3FcontentMode%3Darticle%26game%3Dmagic%26q%3DBlack%2BLotus\",\"tcgplayer_infinite_decks\":\"https://partner.tcgplayer.com/c/4931599/1830156/21018?subId1=api&trafcat=tcgplayer.com%2Fcontent&u=https%3A%2F%2Fwww.tcgplayer.com%2Fcontent%2Fsearch%3FcontentMode%3Ddeck%26game%3Dmagic%26q%3DBlack%2BLotus\",\"edhrec\":\"https://edhrec.com/route/?cc=Black+Lotus\"},\"purchase_uris\":{\"tcgplayer\":\"https://partner.tcgplayer.com/c/4931599/1830156/21018?subId1=api&u=https%3A%2F%2Fwww.tcgplayer.com%2Fsearch%2Fmagic%2Fproduct%3FproductLineName%3Dmagic%26q%3DBlack%2BLotus%26view%3Dgrid\",\"cardmarket\":\"https://www.cardmarket.com/en/Magic/Products/Search?referrer=scryfall&searchString=Black+Lotus&utm_campaign=card_prices&utm_medium=text&utm_source=scryfall\",\"cardhoarder\":\"https://www.cardhoarder.com/cards/53155?affiliate_id=scryfall&ref=card-profile&utm_campaign=affiliate&utm_medium=card&utm_source=scryfall\"}}'\n",
      "An error occurred: 'bytes' object has no attribute 'status_code'\n"
     ]
    }
   ],
   "source": [
    "\n",
    "def get_card_info(card_name):\n",
    "    \"\"\"\n",
    "    Fetch Magic: The Gathering card information from Scryfall API\n",
    "\n",
    "    Args:\n",
    "        card_name: Name of the MTG card to search for\n",
    "        \n",
    "    Returns:\n",
    "        Dictionary with card information or None if card not found\n",
    "    \"\"\"\n",
    "    # URL encode the card name for the API request\n",
    "    url = f\"https://api.scryfall.com/cards/named?exact={card_name}\"\n",
    "\n",
    "    try:\n",
    "        response = requests.get(url).content\n",
    "        print(f\"Response: {response}\")\n",
    "        \n",
    "        # Check if the request was successful\n",
    "        if response.status_code == 200:\n",
    "            card_data = response.json()\n",
    "            \n",
    "            # Extract the requested information\n",
    "            card_info = {\n",
    "                'image_uris': card_data.get('image_uris'),\n",
    "                'name': card_data.get('name'),\n",
    "                'mana_cost': card_data.get('mana_cost'),\n",
    "                'types': card_data.get('type_line'),\n",
    "                'oracle_text': card_data.get('oracle_text'),\n",
    "                'power': card_data.get('power'),\n",
    "                'toughness': card_data.get('toughness'),\n",
    "                'loyalty': card_data.get('loyalty')\n",
    "            }\n",
    "            \n",
    "            return card_info\n",
    "        else:\n",
    "            print(f\"Error: Could not find card named '{card_name}'\")\n",
    "            return None\n",
    "            \n",
    "    except Exception as e:\n",
    "        print(f\"An error occurred: {e}\")\n",
    "        return None\n",
    "\n",
    "get_card_info(\"Black Lotus\")"
   ]
  },
  {
   "cell_type": "code",
   "execution_count": 8,
   "id": "bf42d887",
   "metadata": {},
   "outputs": [],
   "source": [
    "\n",
    "def display_card_info(card_info):\n",
    "    \"\"\"\n",
    "    Display the card information in a readable format\n",
    "    \"\"\"\n",
    "    if card_info:\n",
    "        print(f\"Name: {card_info['name']}\")\n",
    "        print(f\"Mana Value: {card_info['mana_cost']}\")\n",
    "        print(f\"Types: {card_info['types']}\")\n",
    "        if \"Creature\" in card_info['types']:\n",
    "            print(f\"Power/Toughness: {card_info['power']}/{card_info['toughness']}\")\n",
    "        print(f\"Oracle Text: {card_info['oracle_text']}\")\n"
   ]
  },
  {
   "cell_type": "code",
   "execution_count": 10,
   "id": "3b8512d6",
   "metadata": {},
   "outputs": [
    {
     "name": "stdout",
     "output_type": "stream",
     "text": [
      "An error occurred: 'bytes' object has no attribute 'status_code'\n"
     ]
    }
   ],
   "source": [
    "\n",
    "def run():\n",
    "    card_name = \"Up The Beanstalk\"  # Example card name\n",
    "    \n",
    "    # Get and display card information\n",
    "    card_info = get_card_info(card_name)\n",
    "    if card_info:\n",
    "        display_card_info(card_info)\n",
    "\n",
    "run()"
   ]
  },
  {
   "cell_type": "code",
   "execution_count": null,
   "id": "35d95902",
   "metadata": {},
   "outputs": [],
   "source": []
  }
 ],
 "metadata": {
  "kernelspec": {
   "display_name": "Python 3",
   "language": "python",
   "name": "python3"
  },
  "language_info": {
   "codemirror_mode": {
    "name": "ipython",
    "version": 3
   },
   "file_extension": ".py",
   "mimetype": "text/x-python",
   "name": "python",
   "nbconvert_exporter": "python",
   "pygments_lexer": "ipython3",
   "version": "3.10.12"
  }
 },
 "nbformat": 4,
 "nbformat_minor": 5
}
