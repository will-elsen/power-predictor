{
 "cells": [
  {
   "cell_type": "markdown",
   "id": "06284050",
   "metadata": {},
   "source": [
    "### Imports\n",
    "* requests: easy HTTP GETs"
   ]
  },
  {
   "cell_type": "code",
   "execution_count": 83,
   "id": "6fee49e4",
   "metadata": {},
   "outputs": [],
   "source": [
    "import requests\n",
    "from dotenv import load_dotenv\n",
    "import os\n",
    "\n",
    "import streamlit as st\n",
    "import openai\n",
    "import re\n",
    "import predictor\n",
    "import requests\n",
    "from PIL import Image\n",
    "from io import BytesIO"
   ]
  },
  {
   "cell_type": "markdown",
   "id": "02678ce5",
   "metadata": {},
   "source": [
    "#### Get card info\n",
    "This method retrieves relevant information about cards from Scryfall, which is a database containing Magic: the Gathering cards and the information about them. It stores the information in a map, which maps the information to appropriate names, and returns the map."
   ]
  },
  {
   "cell_type": "code",
   "execution_count": 84,
   "id": "38c96f89",
   "metadata": {},
   "outputs": [],
   "source": [
    "def get_card_info(card_name):\n",
    "        \"\"\"\n",
    "        Fetch Magic: The Gathering card information from Scryfall API\n",
    "        \n",
    "        Args:\n",
    "            card_name: Name of the MTG card to search for\n",
    "            \n",
    "        Returns:\n",
    "            Dictionary with card information or None if card not found\n",
    "        \"\"\"\n",
    "        # URL encode the card name for the API request\n",
    "        url = f\"https://api.scryfall.com/cards/named?exact={card_name}\"\n",
    "        \n",
    "        try:\n",
    "            response = requests.get(url).json()\n",
    "            \n",
    "            # Check if the request was successful\n",
    "            if response:\n",
    "                card_data = response\n",
    "                \n",
    "                # Extract the requested information\n",
    "                card_info = {\n",
    "                    'image_uris': card_data.get('image_uris'),\n",
    "                    'name': card_data.get('name'),\n",
    "                    'mana_cost': card_data.get('mana_cost'),\n",
    "                    'types': card_data.get('type_line'),\n",
    "                    'oracle_text': card_data.get('oracle_text'),\n",
    "                    'power': card_data.get('power'),\n",
    "                    'toughness': card_data.get('toughness'),\n",
    "                    'loyalty': card_data.get('loyalty')\n",
    "                }\n",
    "                \n",
    "                return card_info\n",
    "            else:\n",
    "                print(f\"Error: Could not find card named '{card_name}'\")\n",
    "                return None\n",
    "                \n",
    "        except Exception as e:\n",
    "            print(f\"An error occurred: {e}\")\n",
    "            return None"
   ]
  },
  {
   "cell_type": "code",
   "execution_count": 85,
   "id": "3addd24b",
   "metadata": {},
   "outputs": [],
   "source": [
    "system_prompt = \"\"\"You are a Magic: The Gathering expert specializing in evaluating cards for Standard format play.\n",
    "    The best standard decks in the foramt are highly value centered and full of removal and powerful threats.\n",
    "    Analyze the provided card based on its mana cost, types, oracle text, and power/toughness if applicable.\n",
    "    Rate the card on a scale of 1-5 where:\n",
    "    \n",
    "    1: Unplayable in every situation, and outclassed by other cards\n",
    "    2: Very weak, but potentially playable in niche archetypes or for specific sideboard uses\n",
    "    3: Strong cards that can be played in a variety of decks, but mainly as a supporting card\n",
    "    4: Exceptionally strong cards that inspire deck archetypes and provide lots of value on their own\n",
    "    5: Broken and format-warping card than defines the metagame\n",
    "    \n",
    "    Your analysis should include:\n",
    "    1. Power Rating (1-5)\n",
    "    2. Strengths of the card\n",
    "    3. Weaknesses or limitations\n",
    "    \n",
    "    Here is an example of a 1: \n",
    "    Card Name: \"Air Marshal\"\n",
    "    Mana Cost: 1U\n",
    "    Types: Creature - Human Soldier\n",
    "    Oracle Text: 3: Target Soldier gains flying until end of turn.\n",
    "    Power: 2\n",
    "    Toughness: 1\n",
    "    \n",
    "    This card provides a mediocre body for its cost, and the cost of 3 mana to give a creature flying is far too high for the effect.\n",
    "    It is outclassed by many other cards in the format and does not provide enough value to be worth playing.\n",
    "    \n",
    "    Here is an example of a 2:\n",
    "    Card Name: \"Abrade\"\n",
    "    Mana Cost: 1R\n",
    "    Types: Instant\n",
    "    Oracle text: Choose one - Abrade deals 3 damage to target creature; or destroy target artifact.\n",
    "    Power: N/A\n",
    "    Toughness: N/A\n",
    "    This card provides decent utility, but at 2 mana it doesn't provide enough value to be worth playing in most decks.\n",
    "    \n",
    "    Here is an example of a 3:\n",
    "    Card Name: Amalia Benavides Aguirre\n",
    "    Mana Cost: WB\n",
    "    Types: Legendary Creature - Vampire Scout\n",
    "    Oracle text: Ward - Pay 3 life. Whenever you gain life, Amalia Benavides Aguirre explores. Then destroy all other creatures if its power is exactly 20. (To have this creature explore, reveal the top card of your library. Put that card into your hand if it is a land. Otherwise, put a +1/+1 counter on this creature, then put the card back or put it into your graveyard.)\n",
    "    Power: 2\n",
    "    Toughness: 2\n",
    "    This card provides excellent value for life gain deck via growing power and toughness and lots of card selection. Becuase of this, it is a powerful addition to decks that gain life incrementally.\n",
    "    \n",
    "    Here is an example of a 4: \n",
    "    Card Name: \"Overlord of the Hauntwoods\"\n",
    "    Mana Cost: 3GG\n",
    "    Types: Enchantment Creature - Avatar Horror\n",
    "    Oracle Text: Impending 4—1GreenGreen (If you cast this spell for its impending cost, it enters with four time counters and isn't a creature until the last is removed. At the beginning of your end step, remove a time counter from it.) Whenever this permanent enters or attacks, create a tapped colorless land token named Everywhere that is every basic land type.\n",
    "    This card provides immense value for ramp decks and domain decks via its ability to create a land token that is every basic land type. Furthermore, it is flexible in that it can be played for full price as a creature, or early for its impending cost.\n",
    "    This card is very powerful, and finds its way into many decks.\n",
    "    \n",
    "    Here is an example of a 5:\n",
    "    Card Name: \"Up the Beanstalk\"\n",
    "    Mana Cost: 1G\n",
    "    Types: Enchantment\n",
    "    Oracle text: When Up the Beanstalk enters the battlefield and whenever you cast a spell with mana value 5 or greater, draw a card.\n",
    "    Power: N/A\n",
    "    Toughness: N/A\n",
    "    \n",
    "    This card provides immediate value upon entering via drawing a card, and provides powerful repeated value throughout the game.\n",
    "    Furthermore, because of synergies with other strong cards in the format, it is very easy to trigger the card draw effect.\n",
    "    This card is the reason many of the best decks exist, and is a format-defining card.\n",
    "    \"\"\"\n",
    "    "
   ]
  },
  {
   "cell_type": "code",
   "execution_count": null,
   "id": "923bfd36",
   "metadata": {},
   "outputs": [],
   "source": [
    "API_KEY = \"API_KEY\""
   ]
  },
  {
   "cell_type": "code",
   "execution_count": 87,
   "id": "5d7e94e1",
   "metadata": {},
   "outputs": [],
   "source": [
    "def analyze_card(card_info):\n",
    "    try:\n",
    "        client = openai.OpenAI(api_key=API_KEY)\n",
    "        response = client.chat.completions.create(\n",
    "            model=\"gpt-4-turbo\",\n",
    "            messages=[\n",
    "                {\n",
    "                    \"role\": \"system\",\n",
    "                    \"content\": system_prompt\n",
    "                },\n",
    "                {\n",
    "                    \"role\": \"user\",\n",
    "                    \"content\": f\"Please analyze this Magic: The Gathering card:\\n\\nName: {card_info['name']}\\nMana Cost: {card_info['mana_cost']}\\nTypes: {card_info['types']}\\nOracle Text: {card_info['oracle_text']}\\nPower/Toughness: {card_info['power']}/{card_info['toughness']}\\nLoyalty: {card_info['loyalty']}\\n\\n\"\n",
    "                }\n",
    "            ],\n",
    "            temperature=0.7,\n",
    "            max_tokens=1000\n",
    "        )\n",
    "        return response.choices[0].message.content\n",
    "    except Exception as e:\n",
    "        return f\"Error: {str(e)}\""
   ]
  },
  {
   "cell_type": "code",
   "execution_count": 88,
   "id": "7f0f4d10",
   "metadata": {},
   "outputs": [
    {
     "data": {
      "text/markdown": [
       "Power Rating: 3\n",
       "\n",
       "Strengths of the card:\n",
       "1. Tribal Synergy: Arahbo, the First Fang boosts the power of all other Cat creature types you control, which can be a significant advantage in a Cat tribal deck. This type of global anthem effect (Other Cats you control get +1/+1) is valuable as it can turn even the smallest creatures into more considerable threats.\n",
       "2. Token Generation: Arahbo has the ability to generate additional value by creating a 1/1 white Cat creature token whenever Arahbo or another nontoken Cat enters the battlefield. This ability helps to maintain and even increase board presence, making it more difficult for the opponent to clear the board with single-target removal or even some mass removal spells.\n",
       "3. Legendary Creature - Being a legendary creature, Arahbo can be a focal point for decks that capitalize on legendary synergies or commander-oriented strategies within Standard.\n",
       "\n",
       "Weaknesses or limitations:\n",
       "1. Specificity: Arahbo’s abilities are very niche, focusing solely on benefiting Cat creatures. This specificity means that its utility is heavily limited to a Cat tribal strategy, reducing its versatility compared to more generally applicable cards.\n",
       "2. Moderate Impact: While the anthem and token-generation effects are useful, they are not overwhelmingly powerful. The card does not protect itself or other creatures from removal, nor does it offer any immediate game-winning potential. Its 2/2 body for 3 mana is also somewhat fragile and can be easily dealt with by many common removal spells in Standard.\n",
       "3. Mana Cost: At a cost of {2}{W}, Arahbo is reasonably priced, but in a fast-paced or highly competitive environment, the turn spent casting it might be better utilized for more impactful plays or setting up defenses, especially given its vulnerability.\n",
       "\n",
       "Overall, Arahbo, the First Fang receives a power rating of 3. It is a strong card in Cat tribal decks, providing both an anthem and a token-generation effect, which can consistently add value over the course of a game. However, its impact is moderate and highly dependent on the presence of other Cats, making it less effective in a broader range of deck types. This card can definitely find a home in specific Standard decks focused around its tribal theme but is unlikely to influence the format outside of that niche."
      ],
      "text/plain": [
       "<IPython.core.display.Markdown object>"
      ]
     },
     "metadata": {},
     "output_type": "display_data"
    },
    {
     "data": {
      "text/markdown": [
       "Power Rating: 2\n",
       "\n",
       "Strengths of the card:\n",
       "1. **Flash**: The ability to play Ambush Gigapede at instant speed is a significant strength. It allows the player to surprise an opponent by bringing in a creature during their turn or in response to an action, potentially disrupting their plans.\n",
       "2. **Removal Effect**: Its entry effect, giving an opponent's creature -2/-2 until end of turn, can serve as a removal or combat trick. This can potentially eliminate a smaller threat or weaken a bigger creature to swing combat in your favor.\n",
       "\n",
       "Weaknesses or limitations:\n",
       "1. **High Mana Cost**: At a total of six mana ({4}{B}{B}), Ambush Gigapede is quite costly for the effects it provides. In a format that includes highly efficient and impactful cards, its cost can be a significant drawback.\n",
       "2. **Fragility**: With a toughness of 2, despite having 6 power, the Gigapede is very susceptible to most forms of removal used in Standard, including cheaper damage-based removal like Shock or Stomp. This fragility undermines its high cost.\n",
       "3. **Limited Impact**: The -2/-2 effect, while potentially useful, is relatively minor compared to other removal or creature effects available at this or lower mana costs in Standard. It might not be impactful enough against larger threats that commonly appear in the format.\n",
       "\n",
       "Overall, while Ambush Gigapede has some interesting abilities, its high mana cost combined with its susceptibility to common removal spells and relatively modest impact makes it less desirable in competitive Standard play. It might find a place in more casual builds or specific sideboard scenarios against decks with a lot of x/2 creatures, but it generally doesn't provide enough value or resilience for its cost in a highly competitive environment."
      ],
      "text/plain": [
       "<IPython.core.display.Markdown object>"
      ]
     },
     "metadata": {},
     "output_type": "display_data"
    }
   ],
   "source": [
    "card_to_analyze1 = \"Arahbo, the First Fang\"\n",
    "\n",
    "info1 = get_card_info(card_to_analyze1)\n",
    "rating1 = analyze_card(info1)\n",
    "\n",
    "from IPython.display import display, Markdown\n",
    "display(Markdown(rating1))\n",
    "\n",
    "card_to_analyze2 = \"Ambush Gigapede\"\n",
    "\n",
    "info2 = get_card_info(card_to_analyze2)\n",
    "rating2 = analyze_card(info2)\n",
    "\n",
    "display(Markdown(rating2))\n"
   ]
  },
  {
   "cell_type": "code",
   "execution_count": null,
   "id": "ad29d5b9",
   "metadata": {},
   "outputs": [],
   "source": []
  }
 ],
 "metadata": {
  "kernelspec": {
   "display_name": "Python 3",
   "language": "python",
   "name": "python3"
  },
  "language_info": {
   "codemirror_mode": {
    "name": "ipython",
    "version": 3
   },
   "file_extension": ".py",
   "mimetype": "text/x-python",
   "name": "python",
   "nbconvert_exporter": "python",
   "pygments_lexer": "ipython3",
   "version": "3.10.12"
  }
 },
 "nbformat": 4,
 "nbformat_minor": 5
}
